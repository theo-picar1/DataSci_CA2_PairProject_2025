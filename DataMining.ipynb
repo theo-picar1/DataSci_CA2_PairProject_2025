{
 "cells": [
  {
   "cell_type": "code",
   "execution_count": 1,
   "id": "ccb03c44",
   "metadata": {},
   "outputs": [],
   "source": [
    "import pandas as pd\n",
    "import time\n",
    "from selenium import webdriver\n",
    "from selenium.webdriver import Chrome\n",
    "from bs4 import BeautifulSoup"
   ]
  },
  {
   "cell_type": "code",
   "execution_count": null,
   "id": "0af02bce",
   "metadata": {},
   "outputs": [],
   "source": [
    "driver = Chrome()\n",
    "\n",
    "# Split between different URL's as most only have 5 pages\n",
    "base_urls = [\n",
    "    'https://www.jobs.ie/jobs/accountancy?page=',\n",
    "    'https://www.jobs.ie/jobs/it?page=',\n",
    "    'https://www.jobs.ie/jobs/healthcare?page=',\n",
    "    'https://www.jobs.ie/jobs/engineering?page=',\n",
    "    'https://www.jobs.ie/jobs/education?page=',\n",
    "    'https://www.jobs.ie/jobs/sports?page='\n",
    "]\n",
    "\n",
    "jobsList = []\n",
    "\n",
    "for base_url in base_urls:\n",
    "    for i in range(1, 6):\n",
    "        driver.get(base_url + str(i))\n",
    "        time.sleep(3)  # wait for page to load\n",
    "\n",
    "        soup = BeautifulSoup(driver.page_source, 'html.parser')\n",
    "        job_cards = soup.find_all('article', class_=\"res-1739h0r\")\n",
    "\n",
    "        for job in job_cards:\n",
    "            try:\n",
    "                title = job.find('div', class_=\"res-ewgtgq\").text\n",
    "\n",
    "                company_container = job.find('span', class_=\"res-58vv6h\")\n",
    "                company = \"N/A\"\n",
    "                if company_container:\n",
    "                    company = company_container.find('div', class_=\"res-ewgtgq\").text\n",
    "\n",
    "                location_container = job.find('div', class_=\"res-12jlzgf\")\n",
    "                location = \"N/A\"\n",
    "                if location_container:\n",
    "                    location = location_container.find('span', class_=\"res-kr8dkw\").text\n",
    "\n",
    "                salary_container = job.find('div', class_=\"res-5zx6ot\")\n",
    "                salary = \"N/A\"\n",
    "                if salary_container:\n",
    "                    salary = salary_container.find('span', class_=\"res-13twvjm\").text\n",
    "\n",
    "                jobsList.append([title, company, location, salary])\n",
    "            except:\n",
    "                pass"
   ]
  },
  {
   "cell_type": "code",
   "execution_count": 4,
   "id": "e5382ee7",
   "metadata": {},
   "outputs": [],
   "source": [
    "jobDF = pd.DataFrame(jobsList, columns = ['TITLE','COMPANY', 'LOCATION', 'SALARY'])\n",
    "\n",
    "# Remove truncation when printing\n",
    "# pd.set_option('display.max_rows', None) \n",
    "jobDF\n",
    "\n",
    "jobDF.to_csv('dataProject.csv', encoding='utf-8')"
   ]
  }
 ],
 "metadata": {
  "kernelspec": {
   "display_name": "venv",
   "language": "python",
   "name": "python3"
  },
  "language_info": {
   "codemirror_mode": {
    "name": "ipython",
    "version": 3
   },
   "file_extension": ".py",
   "mimetype": "text/x-python",
   "name": "python",
   "nbconvert_exporter": "python",
   "pygments_lexer": "ipython3",
   "version": "3.13.1"
  }
 },
 "nbformat": 4,
 "nbformat_minor": 5
}
